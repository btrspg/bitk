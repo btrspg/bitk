{
 "cells": [
  {
   "cell_type": "code",
   "execution_count": null,
   "metadata": {},
   "outputs": [],
   "source": [
    "# default_exp run_all"
   ]
  },
  {
   "cell_type": "markdown",
   "metadata": {},
   "source": [
    "# run_all"
   ]
  },
  {
   "cell_type": "code",
   "execution_count": null,
   "metadata": {},
   "outputs": [],
   "source": [
    "# export\n",
    "\n",
    "import defopt\n",
    "from bitk.pipelines import de_dimensions\n",
    "from bitk.preprocess import featurecount_rename\n",
    "from bitk.merge.degfc import merge_fc_deseq2"
   ]
  },
  {
   "cell_type": "code",
   "execution_count": null,
   "metadata": {},
   "outputs": [],
   "source": [
    "# export\n",
    "\n",
    "\n",
    "def run_de_dim():\n",
    "    defopt.run(de_dimensions)\n",
    "    \n",
    "def run_fc_rename():\n",
    "    defopt.run(featurecount_rename)\n",
    "\n",
    "def run_merge_fc_deseq2():\n",
    "    defopt.run(merge_fc_deseq2)"
   ]
  },
  {
   "cell_type": "code",
   "execution_count": null,
   "metadata": {},
   "outputs": [
    {
     "name": "stderr",
     "output_type": "stream",
     "text": [
      "usage: ipykernel_launcher.py [-h] [--key-in-fc KEY_IN_FC]\n",
      "                             [--key-in-deseq2 KEY_IN_DESEQ2] [--version]\n",
      "                             featurecounts_file deseq2_file output\n",
      "ipykernel_launcher.py: error: the following arguments are required: deseq2_file, output\n"
     ]
    },
    {
     "ename": "SystemExit",
     "evalue": "2",
     "output_type": "error",
     "traceback": [
      "An exception has occurred, use %tb to see the full traceback.\n",
      "\u001b[0;31mSystemExit\u001b[0m\u001b[0;31m:\u001b[0m 2\n"
     ]
    }
   ],
   "source": [
    "# run_merge_fc_deseq2()"
   ]
  },
  {
   "cell_type": "code",
   "execution_count": null,
   "metadata": {},
   "outputs": [],
   "source": []
  },
  {
   "cell_type": "code",
   "execution_count": null,
   "metadata": {},
   "outputs": [],
   "source": []
  }
 ],
 "metadata": {
  "kernelspec": {
   "display_name": "Python 3",
   "language": "python",
   "name": "python3"
  }
 },
 "nbformat": 4,
 "nbformat_minor": 4
}
