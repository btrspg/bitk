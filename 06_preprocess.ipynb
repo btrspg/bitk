{
 "cells": [
  {
   "cell_type": "code",
   "execution_count": null,
   "metadata": {},
   "outputs": [],
   "source": [
    "# default_exp preprocess"
   ]
  },
  {
   "cell_type": "markdown",
   "metadata": {},
   "source": [
    "# preprocess"
   ]
  },
  {
   "cell_type": "code",
   "execution_count": null,
   "metadata": {},
   "outputs": [],
   "source": [
    "# export\n",
    "\n",
    "import pandas as pd"
   ]
  },
  {
   "cell_type": "code",
   "execution_count": null,
   "metadata": {},
   "outputs": [],
   "source": [
    "# export\n",
    "\n",
    "def featurecount_rename(featurecounts,clinical,prefix,*,sample_title='sample',bam_title='bam',count_title='Geneid'):\n",
    "    '''\n",
    "    featurecounts will use the bamfile name as the sample name. This script rename the featurecounts by the given table.\n",
    "    \n",
    "    :param str featurecounts: featurecounts table file\n",
    "    :param str clinical: clinical table file with header\n",
    "    :param str prefix: output prefix, there will be two outputs, one is count output (prefix_count.txt), and the other one is the rename featurecounts (prefix_fc.txt)\n",
    "    :param str sample_title: the column name of the sample name\n",
    "    :param str bam_title: the column name of the bamfile name\n",
    "    :param str count_title: the column name used as identity in count data\n",
    "    '''\n",
    "    \n",
    "    fc = pd.read_csv(featurecounts,sep='\\t',comment='#')\n",
    "    cli = pd.read_csv(clinical,comment='#')\n",
    "    fc.rename(columns=cli.set_index(bam_title)[sample_title], \n",
    "                 inplace=True)\n",
    "    fc.to_csv(f'{prefix}_featurecounts.txt',sep='\\t',index=False)\n",
    "    fc[[count_title]+list(cli[sample_title])].to_csv(f'{prefix}_counts.txt',sep='\\t',index=False)"
   ]
  },
  {
   "cell_type": "code",
   "execution_count": null,
   "metadata": {},
   "outputs": [],
   "source": [
    "featurecounts='tests/fc.txt'\n",
    "clinical='tests/clinical.txt'\n",
    "prefix='tests/rename'\n",
    "sample_title='sample'\n",
    "bam_title='starbam'\n",
    "count_title='gene_name'\n",
    "featurecount_rename(featurecounts,clinical,prefix,sample_title=sample_title,bam_title=bam_title,count_title=count_title)"
   ]
  },
  {
   "cell_type": "code",
   "execution_count": null,
   "metadata": {},
   "outputs": [
    {
     "name": "stdout",
     "output_type": "stream",
     "text": [
      "==> tests/fc.txt <==\n",
      "#Program:featureCounts\tv2.0.1;\tCommand:\"featureCounts\"\t\"-T\"\t\"12\"\t\"-p\"\t\"-t\"\t\"exon\"\t\"-g\"\t\"gene_id\"\t\"-M\"\t\"--ignoreDup\"\t\"--extraAttributes\"\t\"gene_name,gene_biotype\"\t\"-a\"\t\"/aegis/database/mus_musculus/99/transcriptome.gtf\"\t\"-o\"\t\"pair-end/results/RNA/merged/star_featurecounts.txt\"\t\"--tmpDir\"\t\"pair-end/results/RNA/tmp\"\t\"pair-end/results/RNA/SRR12678525/align_data/SRR12678525_STAR_Aligned.sortedByCoord.out.bam\"\t\"pair-end/results/RNA/SRR12678526/align_data/SRR12678526_STAR_Aligned.sortedByCoord.out.bam\"\t\"pair-end/results/RNA/SRR12678527/align_data/SRR12678527_STAR_Aligned.sortedByCoord.out.bam\"\t\"pair-end/results/RNA/SRR12678528/align_data/SRR12678528_STAR_Aligned.sortedByCoord.out.bam\"\t\"pair-end/results/RNA/SRR12678529/align_data/SRR12678529_STAR_Aligned.sortedByCoord.out.bam\"\t\"pair-end/results/RNA/SRR12678530/align_data/SRR12678530_STAR_Aligned.sortedByCoord.out.bam\"\t\n",
      "Geneid\tChr\tStart\tEnd\tStrand\tLength\tgene_name\tgene_biotype\tpair-end/results/RNA/SRR12678525/align_data/SRR12678525_STAR_Aligned.sortedByCoord.out.bam\tpair-end/results/RNA/SRR12678526/align_data/SRR12678526_STAR_Aligned.sortedByCoord.out.bam\tpair-end/results/RNA/SRR12678527/align_data/SRR12678527_STAR_Aligned.sortedByCoord.out.bam\tpair-end/results/RNA/SRR12678528/align_data/SRR12678528_STAR_Aligned.sortedByCoord.out.bam\tpair-end/results/RNA/SRR12678529/align_data/SRR12678529_STAR_Aligned.sortedByCoord.out.bam\tpair-end/results/RNA/SRR12678530/align_data/SRR12678530_STAR_Aligned.sortedByCoord.out.bam\n",
      "ENSMUSG00000102693\t1\t3073253\t3074322\t+\t1070\t4933401J01Rik\tTEC\t0\t0\t0\t0\t0\t0\n",
      "ENSMUSG00000064842\t1\t3102016\t3102125\t+\t110\tGm26206\tsnRNA\t0\t0\t0\t0\t0\t0\n",
      "ENSMUSG00000051951\t1;1;1;1;1;1;1\t3205901;3206523;3213439;3213609;3214482;3421702;3670552\t3207317;3207317;3215632;3216344;3216968;3421901;3671498\t-;-;-;-;-;-;-\t6094\tXkr4\tprotein_coding\t6\t9\t6\t13\t12\t11\n",
      "ENSMUSG00000102851\t1\t3252757\t3253236\t+\t480\tGm18956\tprocessed_pseudogene\t0\t0\t0\t0\t0\t0\n",
      "ENSMUSG00000103377\t1\t3365731\t3368549\t-\t2819\tGm37180\tTEC\t0\t0\t0\t0\t0\t0\n",
      "ENSMUSG00000104017\t1\t3375556\t3377788\t-\t2233\tGm37363\tTEC\t0\t0\t0\t0\t0\t0\n",
      "==> tests/clinical.txt <==\n",
      "sample\tcondition\tstarbam\thisat2bam\n",
      "SRR12678525\tControl\tpair-end/results/RNA/SRR12678525/align_data/SRR12678525_STAR_Aligned.sortedByCoord.out.bam\tpair-end/results/RNA/SRR12678525/align_data/SRR12678525_hisat2.bam\n",
      "SRR12678526\tControl\tpair-end/results/RNA/SRR12678526/align_data/SRR12678526_STAR_Aligned.sortedByCoord.out.bam\tpair-end/results/RNA/SRR12678526/align_data/SRR12678526_hisat2.bam\n",
      "SRR12678527\tControl\tpair-end/results/RNA/SRR12678527/align_data/SRR12678527_STAR_Aligned.sortedByCoord.out.bam\tpair-end/results/RNA/SRR12678527/align_data/SRR12678527_hisat2.bam\n",
      "SRR12678528\tCase\tpair-end/results/RNA/SRR12678528/align_data/SRR12678528_STAR_Aligned.sortedByCoord.out.bam\tpair-end/results/RNA/SRR12678528/align_data/SRR12678528_hisat2.bam\n",
      "SRR12678529\tCase\tpair-end/results/RNA/SRR12678529/align_data/SRR12678529_STAR_Aligned.sortedByCoord.out.bam\tpair-end/results/RNA/SRR12678529/align_data/SRR12678529_hisat2.bam\n",
      "SRR12678530\tCase\tpair-end/results/RNA/SRR12678530/align_data/SRR12678530_STAR_Aligned.sortedByCoord.out.bam\tpair-end/results/RNA/SRR12678530/align_data/SRR12678530_hisat2.bam\n",
      "==> tests/rename_counts.txt <==\n",
      "gene_name\tSRR12678525\tSRR12678526\tSRR12678527\tSRR12678528\tSRR12678529\tSRR12678530\n",
      "4933401J01Rik\t0\t0\t0\t0\t0\t0\n",
      "Gm26206\t0\t0\t0\t0\t0\t0\n",
      "Xkr4\t6\t9\t6\t13\t12\t11\n",
      "Gm18956\t0\t0\t0\t0\t0\t0\n",
      "Gm37180\t0\t0\t0\t0\t0\t0\n",
      "Gm37363\t0\t0\t0\t0\t0\t0\n",
      "\n",
      "==> tests/rename_fc.txt <==\n",
      "Geneid\tChr\tStart\tEnd\tStrand\tLength\tgene_name\tgene_biotype\tSRR12678525\tSRR12678526\tSRR12678527\tSRR12678528\tSRR12678529\tSRR12678530\n",
      "ENSMUSG00000102693\t1\t3073253\t3074322\t+\t1070\t4933401J01Rik\tTEC\t0\t0\t0\t0\t0\t0\n",
      "ENSMUSG00000064842\t1\t3102016\t3102125\t+\t110\tGm26206\tsnRNA\t0\t0\t0\t0\t0\t0\n",
      "ENSMUSG00000051951\t1;1;1;1;1;1;1\t3205901;3206523;3213439;3213609;3214482;3421702;3670552\t3207317;3207317;3215632;3216344;3216968;3421901;3671498\t-;-;-;-;-;-;-\t6094\tXkr4\tprotein_coding\t6\t9\t6\t13\t12\t11\n",
      "ENSMUSG00000102851\t1\t3252757\t3253236\t+\t480\tGm18956\tprocessed_pseudogene\t0\t0\t0\t0\t0\t0\n",
      "ENSMUSG00000103377\t1\t3365731\t3368549\t-\t2819\tGm37180\tTEC\t0\t0\t0\t0\t0\t0\n",
      "ENSMUSG00000104017\t1\t3375556\t3377788\t-\t2233\tGm37363\tTEC\t0\t0\t0\t0\t0\t0\n",
      "\n",
      "==> tests/rename_featurecounts.txt <==\n",
      "Geneid\tChr\tStart\tEnd\tStrand\tLength\tgene_name\tgene_biotype\tSRR12678525\tSRR12678526\tSRR12678527\tSRR12678528\tSRR12678529\tSRR12678530\n",
      "ENSMUSG00000102693\t1\t3073253\t3074322\t+\t1070\t4933401J01Rik\tTEC\t0\t0\t0\t0\t0\t0\n",
      "ENSMUSG00000064842\t1\t3102016\t3102125\t+\t110\tGm26206\tsnRNA\t0\t0\t0\t0\t0\t0\n",
      "ENSMUSG00000051951\t1;1;1;1;1;1;1\t3205901;3206523;3213439;3213609;3214482;3421702;3670552\t3207317;3207317;3215632;3216344;3216968;3421901;3671498\t-;-;-;-;-;-;-\t6094\tXkr4\tprotein_coding\t6\t9\t6\t13\t12\t11\n",
      "ENSMUSG00000102851\t1\t3252757\t3253236\t+\t480\tGm18956\tprocessed_pseudogene\t0\t0\t0\t0\t0\t0\n",
      "ENSMUSG00000103377\t1\t3365731\t3368549\t-\t2819\tGm37180\tTEC\t0\t0\t0\t0\t0\t0\n",
      "ENSMUSG00000104017\t1\t3375556\t3377788\t-\t2233\tGm37363\tTEC\t0\t0\t0\t0\t0\t0\n"
     ]
    }
   ],
   "source": [
    "!head tests/fc.txt tests/clinical.txt tests/rename*"
   ]
  },
  {
   "cell_type": "code",
   "execution_count": null,
   "metadata": {},
   "outputs": [],
   "source": []
  },
  {
   "cell_type": "code",
   "execution_count": null,
   "metadata": {},
   "outputs": [],
   "source": []
  }
 ],
 "metadata": {
  "kernelspec": {
   "display_name": "Python 3",
   "language": "python",
   "name": "python3"
  }
 },
 "nbformat": 4,
 "nbformat_minor": 4
}
